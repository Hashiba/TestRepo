{
  "cells": [
    {
      "cell_type": "markdown",
      "id": "8076a39e",
      "metadata": {
        "id": "8076a39e"
      },
      "source": [
        "# Data Science Tools and Ecosystem"
      ]
    },
    {
      "cell_type": "markdown",
      "id": "5ab24dcc",
      "metadata": {
        "id": "5ab24dcc"
      },
      "source": [
        "In this notebook, Data Science Tools and Ecosystem are summarized."
      ]
    },
    {
      "cell_type": "markdown",
      "id": "0ecaef93",
      "metadata": {
        "id": "0ecaef93"
      },
      "source": [
        "Some of the popular languages that Data Scientists use are:\n",
        "\n",
        "1. Python  \n",
        "2. R  \n",
        "3. SQL  \n",
        "4. Julia  \n",
        "5. Scala"
      ]
    },
    {
      "cell_type": "markdown",
      "id": "ec039943",
      "metadata": {
        "id": "ec039943"
      },
      "source": [
        "Some of the commonly used libraries used by Data Scientists include:\n",
        "\n",
        "1. Pandas  \n",
        "2. NumPy  \n",
        "3. Matplotlib  \n",
        "4. Scikit-learn  \n",
        "5. TensorFlow"
      ]
    },
    {
      "cell_type": "markdown",
      "id": "0253a361",
      "metadata": {
        "id": "0253a361"
      },
      "source": [
        "| Data Science Tools         |\n",
        "|---------------------------|\n",
        "| Jupyter Notebook          |\n",
        "| RStudio                   |\n",
        "| Apache Zeppelin           |"
      ]
    },
    {
      "cell_type": "markdown",
      "id": "6fd0a05a",
      "metadata": {
        "id": "6fd0a05a"
      },
      "source": [
        "### Below are a few examples of evaluating arithmetic expressions in Python."
      ]
    },
    {
      "cell_type": "code",
      "execution_count": null,
      "id": "25dbf24e",
      "metadata": {
        "id": "25dbf24e"
      },
      "outputs": [],
      "source": [
        "# This a simple arithmetic expression to multiply then add integers\n",
        "(3 * 4) + 5"
      ]
    },
    {
      "cell_type": "code",
      "execution_count": null,
      "id": "2b1373fa",
      "metadata": {
        "id": "2b1373fa"
      },
      "outputs": [],
      "source": [
        "# This will convert 200 minutes to hours by dividing by 60\n",
        "200 / 60"
      ]
    },
    {
      "cell_type": "markdown",
      "id": "7c97eadb",
      "metadata": {
        "id": "7c97eadb"
      },
      "source": [
        "**Objectives:**\n",
        "\n",
        "- List popular languages for Data Science  \n",
        "- Identify commonly used libraries in Data Science  \n",
        "- Demonstrate the use of arithmetic expressions in Python  \n",
        "- Create tables and lists in markdown cells  \n",
        "- Use Jupyter Notebook to document and execute code"
      ]
    },
    {
      "cell_type": "markdown",
      "id": "75f96cf2",
      "metadata": {
        "id": "75f96cf2"
      },
      "source": [
        "## Author  \n",
        "Fernando Hashiba"
      ]
    }
  ],
  "metadata": {
    "colab": {
      "provenance": []
    }
  },
  "nbformat": 4,
  "nbformat_minor": 5
}